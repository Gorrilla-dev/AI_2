{
 "cells": [
  {
   "cell_type": "code",
   "execution_count": 2,
   "metadata": {},
   "outputs": [
    {
     "name": "stdout",
     "output_type": "stream",
     "text": [
      "[2002, 2009, 2016, 2023, 2037, 2044, 2051, 2058, 2072, 2079, 2086, 2093, 2107, 2114, 2121, 2128, 2142, 2149, 2156, 2163, 2177, 2184, 2191, 2198, 2212, 2219, 2226, 2233, 2247, 2254, 2261, 2268, 2282, 2289, 2296, 2303, 2317, 2324, 2331, 2338, 2352, 2359, 2366, 2373, 2387, 2394, 2401, 2408, 2422, 2429, 2436, 2443, 2457, 2464, 2471, 2478, 2492, 2499, 2506, 2513, 2527, 2534, 2541, 2548, 2562, 2569, 2576, 2583, 2597, 2604, 2611, 2618, 2632, 2639, 2646, 2653, 2667, 2674, 2681, 2688, 2702, 2709, 2716, 2723, 2737, 2744, 2751, 2758, 2772, 2779, 2786, 2793, 2807, 2814, 2821, 2828, 2842, 2849, 2856, 2863, 2877, 2884, 2891, 2898, 2912, 2919, 2926, 2933, 2947, 2954, 2961, 2968, 2982, 2989, 2996, 3003, 3017, 3024, 3031, 3038, 3052, 3059, 3066, 3073, 3087, 3094, 3101, 3108, 3122, 3129, 3136, 3143, 3157, 3164, 3171, 3178, 3192, 3199]\n"
     ]
    }
   ],
   "source": [
    "lst=[]\n",
    "for i in range(2000,3201):    \n",
    "    if i%7==0 and i%5!=0:\n",
    "        lst.append(i)\n",
    "print(lst)"
   ]
  },
  {
   "cell_type": "code",
   "execution_count": 5,
   "metadata": {},
   "outputs": [
    {
     "name": "stdout",
     "output_type": "stream",
     "text": [
      "val :20\n",
      "factorial 20 is 2432902008176640000\n"
     ]
    }
   ],
   "source": [
    "x=int(input(\"val :\"))\n",
    "res=1\n",
    "for i in range(1,x+1):\n",
    "    res*=i\n",
    "print(\"factorial\",x,\"is\",res)"
   ]
  },
  {
   "cell_type": "code",
   "execution_count": 7,
   "metadata": {},
   "outputs": [
    {
     "name": "stdout",
     "output_type": "stream",
     "text": [
      "val :8\n",
      "{1: 1, 2: 4, 3: 9, 4: 16, 5: 25, 6: 36, 7: 49, 8: 64}\n"
     ]
    }
   ],
   "source": [
    "x=int(input(\"val :\"))\n",
    "dict1={}\n",
    "for i in range(1,x+1):\n",
    "    dict1[i]=i**2\n",
    "print(dict1)"
   ]
  },
  {
   "cell_type": "code",
   "execution_count": 9,
   "metadata": {},
   "outputs": [
    {
     "name": "stdout",
     "output_type": "stream",
     "text": [
      "string :Example\n",
      "index :2\n",
      "Exmple\n"
     ]
    }
   ],
   "source": [
    "x=input(\"string :\")\n",
    "i=int(input(\"index :\"))\n",
    "x=x.replace(x[i],\"\")\n",
    "print(x)"
   ]
  },
  {
   "cell_type": "code",
   "execution_count": 2,
   "metadata": {},
   "outputs": [
    {
     "name": "stdout",
     "output_type": "stream",
     "text": [
      "Array :[[0,1],[2,3],[4,5]]\n",
      "Original array elements: [[0,1],[2,3],[4,5]]\n",
      "Array to list: [[0,1],[2,3],[4,5]]\n"
     ]
    }
   ],
   "source": [
    "import numpy as np\n",
    "arr=np.array(input(\"Array :\"))\n",
    "print(\"Original array elements:\",arr)\n",
    "print(\"Array to list:\",arr.tolist())"
   ]
  },
  {
   "cell_type": "code",
   "execution_count": 10,
   "metadata": {},
   "outputs": [
    {
     "name": "stdout",
     "output_type": "stream",
     "text": [
      "[[ 1. -1.]\n",
      " [-1.  1.]]\n"
     ]
    }
   ],
   "source": [
    " import numpy as np \n",
    "x = [0,1,2] \n",
    "y = [2,1,0] \n",
    "z=np.array([x,y])\n",
    "print(np.cov(z))"
   ]
  },
  {
   "cell_type": "code",
   "execution_count": 19,
   "metadata": {},
   "outputs": [
    {
     "name": "stdout",
     "output_type": "stream",
     "text": [
      "D values:100,150,180\n",
      "Q 1 = 18\n",
      "Q 2 = 22\n",
      "Q 3 = 24\n"
     ]
    }
   ],
   "source": [
    "import math\n",
    "D=input(\"D values:\")\n",
    "x=D.split(\",\")\n",
    "p=0\n",
    "for i in x:\n",
    "    p+=1\n",
    "    r=int(math.sqrt((2*50*(int(i)))/30))\n",
    "    print(\"Q\",p,\"=\",r)"
   ]
  },
  {
   "cell_type": "code",
   "execution_count": 46,
   "metadata": {},
   "outputs": [
    {
     "name": "stdout",
     "output_type": "stream",
     "text": [
      "[[0. 1. 0. 0. 0.]\n",
      " [1. 2. 0. 0. 0.]\n",
      " [3. 4. 0. 0. 0.]\n",
      " [0. 0. 5. 6. 8.]\n",
      " [0. 0. 7. 8. 7.]]\n"
     ]
    }
   ],
   "source": [
    "import numpy\n",
    "a=np.array([[0,1],[1,2], [3,4]])\n",
    "b=np.array([[5, 6,8], [7, 8,7]])\n",
    "c=np.zeros([a.shape[0]+b.shape[0],a.shape[1]+b.shape[1]])\n",
    "for i in range(a.shape[0]):\n",
    "    for j in range(a.shape[1]):\n",
    "           c[i][j]=a[i][j]\n",
    "for i in range(a.shape[0],c.shape[0]):\n",
    "    for j in range(a.shape[1],c.shape[1]):\n",
    "        c[i][j]=b[i-a.shape[0]][j-a.shape[1]]\n",
    "print(c)"
   ]
  }
 ],
 "metadata": {
  "kernelspec": {
   "display_name": "Python 3",
   "language": "python",
   "name": "python3"
  },
  "language_info": {
   "codemirror_mode": {
    "name": "ipython",
    "version": 3
   },
   "file_extension": ".py",
   "mimetype": "text/x-python",
   "name": "python",
   "nbconvert_exporter": "python",
   "pygments_lexer": "ipython3",
   "version": "3.7.6"
  }
 },
 "nbformat": 4,
 "nbformat_minor": 4
}
